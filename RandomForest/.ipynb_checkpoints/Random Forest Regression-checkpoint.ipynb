{
 "cells": [
  {
   "cell_type": "markdown",
   "metadata": {},
   "source": [
    "### Random Forest"
   ]
  },
  {
   "cell_type": "markdown",
   "metadata": {},
   "source": [
    "#### Ensamble Learning:\n",
    "It is when you take multiple algorithms or the same algorithm multiple times and you make it much more powerful then it was alone.\n",
    "Random forest is one of the Ensamble learning."
   ]
  },
  {
   "cell_type": "markdown",
   "metadata": {},
   "source": [
    "### Steps involved in Random Forest Regression "
   ]
  },
  {
   "cell_type": "markdown",
   "metadata": {},
   "source": [
    "#### Step-1 - Pick a random K data points from the Training set.\n",
    "#### Step-2 - Build the decision tree associated to these data points.\n",
    "#### Step-3 - Choose the number Ntree of tree you want to build and repeat STEPS 1 & 2.\n",
    "#### Step-4 - For new data point make each one of your Ntree trees predict the value of Y for the data point in question and assign the new data point the average across all the predicted Y values. "
   ]
  },
  {
   "cell_type": "code",
   "execution_count": null,
   "metadata": {},
   "outputs": [],
   "source": []
  }
 ],
 "metadata": {
  "kernelspec": {
   "display_name": "Python 3",
   "language": "python",
   "name": "python3"
  },
  "language_info": {
   "codemirror_mode": {
    "name": "ipython",
    "version": 3
   },
   "file_extension": ".py",
   "mimetype": "text/x-python",
   "name": "python",
   "nbconvert_exporter": "python",
   "pygments_lexer": "ipython3",
   "version": "3.7.4"
  }
 },
 "nbformat": 4,
 "nbformat_minor": 2
}
