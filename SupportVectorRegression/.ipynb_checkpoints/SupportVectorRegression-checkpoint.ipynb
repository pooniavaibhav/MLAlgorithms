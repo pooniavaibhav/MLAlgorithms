{
 "cells": [
  {
   "cell_type": "markdown",
   "metadata": {},
   "source": [
    "### Support Vector Regression\n"
   ]
  },
  {
   "cell_type": "markdown",
   "metadata": {},
   "source": [
    "#### Bias:\n",
    "The inability for a machine learning method(like linear regression) to capture the true relationship is called bias.for e.g. the data points form a curve but linear regression forms a straight line which does not predict nicely."
   ]
  },
  {
   "cell_type": "markdown",
   "metadata": {},
   "source": [
    "#### Variance\n",
    "Now suppose we dont have a straight line we have a squiggly line that is a flexible line that passes through all the points of training set.now when we try to predict using test data it performs even worse then the linear regeression bcz it fits data too well.\n",
    "##### So the difference in fits between data sets is called Variance."
   ]
  },
  {
   "cell_type": "markdown",
   "metadata": {},
   "source": [
    "#### We can say that squiggly line is over fit."
   ]
  },
  {
   "cell_type": "markdown",
   "metadata": {},
   "source": [
    "##### In machine learning  the ideal algorithm has low bias  and can accurately model the true relationship and it also has low variability by producing consistent predictions across different datasets."
   ]
  },
  {
   "cell_type": "markdown",
   "metadata": {},
   "source": [
    "### So we need to find the sweet spot between simple model and complex model."
   ]
  },
  {
   "cell_type": "markdown",
   "metadata": {},
   "source": [
    "### Cross Validation:\n",
    "Cross validation allows us to compare different machine learning methods and get a sense of how well they will work in practice.\n",
    "How does it work-\n",
    "To check which ml algorithm to use we need some of the data to estimate the curve called training data. secondly we need to know how the curve created predicts we have some data to test it called testing data.\n",
    "Suppose we save 75 percent of data to train and 25% to test.But now which 25% to test? First 25% or second 25% or third 25% or last 25%.\n",
    "\n",
    "#### So rather than worry too much about which block would be best for testing ,cross validation uses all of them one at a time  and summarize the result. Now for each algorithm we find out which algorithm predicts best on test data.  "
   ]
  },
  {
   "cell_type": "markdown",
   "metadata": {},
   "source": [
    "### SVR:\n",
    "In simple regression we try to minimise the error rate.While in SVR we try to fit the error with in a certain threshold.\n",
    "\n",
    "    "
   ]
  },
  {
   "cell_type": "markdown",
   "metadata": {},
   "source": [
    "#### Support Vector machine support linear and non linear regression that we can refer to as SVR.\n",
    "\n",
    "Instead of trying to fit the largest possible street between two classes while limiting margin violations ,SVR tries to fit as many as instance as possible on the street while limiting marginal violations.\n",
    "\n",
    "The width of the street is calculated by the hyper parameter Epsilon.\n",
    "\n",
    "SVR perform linear regression in higher(dimensional space.)\n",
    "\n",
    "We can think of the SVR as if each data point in the training represents it's own dimension.When you evaluate your kernel b/w a test point and a point in the training set the resulting value gives you the coordinate of your test point in high dimension.\n",
    "\n",
    "The vector we get when we evaluate the test point for all points in the training set,k\n",
    "is the representation of the test point in the higher dimensional space. By using this vector you can perform linear regression"
   ]
  },
  {
   "cell_type": "code",
   "execution_count": null,
   "metadata": {},
   "outputs": [],
   "source": []
  },
  {
   "cell_type": "markdown",
   "metadata": {},
   "source": [
    "### some terms in SVR\n",
    "#### Kernel - The function used to map a lower dimensional data into higher dimensional data.\n",
    "#### Hyper plane - The line that will help us predict the continuous value or target value.\n",
    "#### Boundary line - There are two lines other then Hyper Plane which creates a margin. The support vectors can be on the boundary lines or out side it.This boundary line seperates the two classes .\n",
    "#### Support vectors - This are the data points which are closest to the boundary.The distance of the points is minimum or least.\n"
   ]
  },
  {
   "cell_type": "markdown",
   "metadata": {},
   "source": [
    "### It requires a training set T = {X,Y}\n",
    "\n",
    "The work of the SVM is to approximate the function we used to generate the training set.\n",
    "\n",
    "            F(X) = Y\n",
    "            \n",
    " "
   ]
  },
  {
   "cell_type": "markdown",
   "metadata": {},
   "source": [
    "##### These vectors are used to perform linear regression.The vector closest to the test point are  referred to as support vectors. We can evaluate our function any where so any vectors could be closest to our test evaluation location. "
   ]
  },
  {
   "cell_type": "code",
   "execution_count": 31,
   "metadata": {},
   "outputs": [],
   "source": [
    "import pandas as pd\n",
    "import numpy as np\n",
    "import matplotlib.pyplot as plt"
   ]
  },
  {
   "cell_type": "code",
   "execution_count": 32,
   "metadata": {},
   "outputs": [],
   "source": [
    "dataset = pd.read_csv(\"Position_Salaries.csv\")"
   ]
  },
  {
   "cell_type": "code",
   "execution_count": 37,
   "metadata": {},
   "outputs": [],
   "source": [
    "X=dataset.iloc[:,1:2].values\n",
    "Y=dataset.iloc[:,2:3].values"
   ]
  },
  {
   "cell_type": "code",
   "execution_count": 38,
   "metadata": {},
   "outputs": [],
   "source": [
    "from sklearn.preprocessing import StandardScaler\n",
    "sc_x = StandardScaler()\n",
    "sc_y = StandardScaler()\n",
    "X = sc_x.fit_transform(X)\n",
    "Y = sc_y.fit_transform(Y)"
   ]
  },
  {
   "cell_type": "markdown",
   "metadata": {},
   "source": [
    "#### Fitting SVR to dataset"
   ]
  },
  {
   "cell_type": "code",
   "execution_count": 42,
   "metadata": {},
   "outputs": [
    {
     "name": "stderr",
     "output_type": "stream",
     "text": [
      "/home/vaibhav/anaconda3/lib/python3.7/site-packages/sklearn/utils/validation.py:760: DataConversionWarning: A column-vector y was passed when a 1d array was expected. Please change the shape of y to (n_samples, ), for example using ravel().\n",
      "  y = column_or_1d(y, warn=True)\n"
     ]
    },
    {
     "data": {
      "text/plain": [
       "array([131106.77303274])"
      ]
     },
     "execution_count": 42,
     "metadata": {},
     "output_type": "execute_result"
    }
   ],
   "source": [
    "from sklearn.svm import SVR\n",
    "regressor = SVR(kernel = 'rbf')\n",
    "regressor = regressor.fit(X,Y)\n",
    "val = sc_x.fit_transform(np.array([[6.5]]))\n",
    "sc_y.inverse_transform(regressor.predict(val))"
   ]
  },
  {
   "cell_type": "markdown",
   "metadata": {},
   "source": [
    "#### Visualising:"
   ]
  },
  {
   "cell_type": "code",
   "execution_count": 40,
   "metadata": {},
   "outputs": [
    {
     "data": {
      "image/png": "[encoded data removed]",
      "text/plain": [
       "<Figure size 432x288 with 1 Axes>"
      ]
     },
     "metadata": {
      "needs_background": "light"
     },
     "output_type": "display_data"
    }
   ],
   "source": [
    "plt.scatter(X,Y,color = 'red')\n",
    "plt.plot(X,regressor.predict(X))\n",
    "plt.title('Truth or bluff')\n",
    "plt.xlabel('Position level')\n",
    "plt.ylabel('Salary')\n",
    "plt.show()"
   ]
  },
  {
   "cell_type": "code",
   "execution_count": null,
   "metadata": {},
   "outputs": [],
   "source": []
  }
 ],
 "metadata": {
  "kernelspec": {
   "display_name": "Python 3",
   "language": "python",
   "name": "python3"
  },
  "language_info": {
   "codemirror_mode": {
    "name": "ipython",
    "version": 3
   },
   "file_extension": ".py",
   "mimetype": "text/x-python",
   "name": "python",
   "nbconvert_exporter": "python",
   "pygments_lexer": "ipython3",
   "version": "3.7.4"
  }
 },
 "nbformat": 4,
 "nbformat_minor": 2
}
