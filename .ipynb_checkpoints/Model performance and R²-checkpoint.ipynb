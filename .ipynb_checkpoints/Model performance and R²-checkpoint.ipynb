{
 "cells": [
  {
   "cell_type": "markdown",
   "metadata": {},
   "source": [
    "### Model performance"
   ]
  },
  {
   "cell_type": "markdown",
   "metadata": {},
   "source": [
    "##### In linear regression we used to calculate the model using least square criterion by minimising the residual sum of squares. The line which gave minimum residual sum of squares was our best model.\n",
    "\n",
    "                SSres = SUM (yᵢ - yᵢ^)²\n",
    "                \n",
    "                SSres = Residual sum of squares\n",
    "                yᵢ = given value\n",
    "                yᵢ^ = predicted value of y\n",
    "                \n",
    "                SStot = (yᵢ - yₐᵥ₉^)²\n",
    "                \n",
    "                SStot = Total sum of squares  \n",
    "                yᵢ = given value\n",
    "                yₐᵥ₉^ = average predicted value of y \n",
    "               \n",
    "               \n",
    "### R squared:\n",
    "How good is your line compared to the average line.\n",
    "\n",
    "                R² = 1 - (SSres/SStot)\n",
    "                \n",
    "We try to minimise the SSres with that SSres/SStotal also become smaller and so        1 - (SSres/SStot) becomes greater.\n",
    "                \n",
    " Ideal scenerio -\n",
    "If SSres is 0 which shows your line moves through every record which is ideal scenerio but it is hypothetical and will never happen.\n",
    "\n",
    "So the closer is R² to 1 the better it it. Further it is from 1 worse it is.\n",
    "\n",
    "Can R² be negative?\n",
    "Yes R² can be negative. If your model fits poorer then the average line.that means the model is broken. "
   ]
  },
  {
   "cell_type": "markdown",
   "metadata": {},
   "source": [
    "####  Adjusted R²"
   ]
  },
  {
   "cell_type": "markdown",
   "metadata": {},
   "source": [
    "### There is a problem with R² method that is if we add another variable and want to see if our R² is incresed or decreased . R² will never decrease. Let us see how.\n",
    "\n",
    "\n",
    "Suppose we have a equation with two independent variables: \n",
    "                y = bₒ + b₁x₁ + b₂x₂\n",
    "                \n",
    "                \n",
    "We calculated R² for it:\n",
    "            \n",
    "                R² = 1 - (SSres/SStot)\n",
    "\n",
    "Now we add another variable to our equation and want to see if it is incresing our performance to predict y.\n",
    "\n",
    "                y = bₒ + b₁x₁ + b₂x₂ + b₃x₃  \n",
    "            \n",
    "b₃x₃ will contribute in decreasing our SSres(Residual sum of squares) but our SStot(total sum of squares) will remain same as we are not changing the number of observations.\n",
    "\n",
    "#### so (SSres/SStot) will decrease in all the conditions which increses the 1 - (SSres/SStot). It fails to tell whether performanced increased or decreased.\n",
    "        \n",
    "                "
   ]
  },
  {
   "cell_type": "markdown",
   "metadata": {},
   "source": [
    "#### Formula for adjusted R²\n",
    "\n",
    "\n",
    "            Adj R² = 1 - (1-R²)(n-1/n-p-1)\n",
    "            \n",
    "            here\n",
    "            p = number of regressors(independent var)\n",
    "            n = sample size\n",
    "            \n",
    "  So when number of regresor(p) increases (n-p-1) part decreases when denominator decreases the value of fraction (n-1/n-p-1) increases which also increses (1-R²)\n",
    "  which further leads in the decrease of Adj R².So as we add more regressors the value of R² is decreasing.\n",
    "\n",
    "Suppose R² increases so (1 - R²) part decreses which led to increase in tha adjusted R².\n",
    "\n",
    "#### So it truly tells the performance."
   ]
  },
  {
   "cell_type": "code",
   "execution_count": null,
   "metadata": {},
   "outputs": [],
   "source": []
  }
 ],
 "metadata": {
  "kernelspec": {
   "display_name": "Python 3",
   "language": "python",
   "name": "python3"
  },
  "language_info": {
   "codemirror_mode": {
    "name": "ipython",
    "version": 3
   },
   "file_extension": ".py",
   "mimetype": "text/x-python",
   "name": "python",
   "nbconvert_exporter": "python",
   "pygments_lexer": "ipython3",
   "version": "3.7.4"
  }
 },
 "nbformat": 4,
 "nbformat_minor": 2
}
