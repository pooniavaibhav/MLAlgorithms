{
 "cells": [
  {
   "cell_type": "markdown",
   "metadata": {},
   "source": [
    "## Key Driver Analysis:\n",
    "\n",
    "Key Driver Analysis tells you the importance of your predictor variables (independent) on your outcome variable (dependent).\n",
    "\n",
    "In a multiple regression analysis (and other similar analyses), one is usually interested in determining the relative contribution of each predictor towards explaining variance in the criterion variable.\n"
   ]
  },
  {
   "cell_type": "markdown",
   "metadata": {},
   "source": [
    "#### We will be using two models for our Key driver analysis:\n",
    "##### Linear Regression\n",
    "##### Relative weight analysis"
   ]
  },
  {
   "cell_type": "markdown",
   "metadata": {},
   "source": [
    "After that we would be testing the performance of both the models using R square.R square basically gives us how good our model performs compared to an average model.\n",
    "##### closer is R² to 1 the better it it. Further it is from 1 worse it is."
   ]
  },
  {
   "cell_type": "markdown",
   "metadata": {},
   "source": [
    "### Importing libraries:"
   ]
  },
  {
   "cell_type": "code",
   "execution_count": 4,
   "metadata": {},
   "outputs": [],
   "source": [
    "import pandas as pd\n",
    "import numpy as np\n",
    "import matplotlib\n",
    "import matplotlib.pyplot as plt\n",
    "import os\n",
    "from relativeImp import relativeImp\n",
    "\n",
    "#Getting current directory\n",
    "current_dir = os.getcwd()"
   ]
  },
  {
   "cell_type": "markdown",
   "metadata": {},
   "source": [
    "### Importing our data."
   ]
  },
  {
   "cell_type": "code",
   "execution_count": 5,
   "metadata": {},
   "outputs": [],
   "source": [
    "survey_responses = pd.read_csv(\"/home/vaibhav/AIGit/Airport_Quarterly_Passenger_Survey.csv\")"
   ]
  },
  {
   "cell_type": "markdown",
   "metadata": {},
   "source": [
    "### Selecting required columns:"
   ]
  },
  {
   "cell_type": "code",
   "execution_count": 6,
   "metadata": {},
   "outputs": [
    {
     "data": {
      "text/html": [
       "<div>\n",
       "<style scoped>\n",
       "    .dataframe tbody tr th:only-of-type {\n",
       "        vertical-align: middle;\n",
       "    }\n",
       "\n",
       "    .dataframe tbody tr th {\n",
       "        vertical-align: top;\n",
       "    }\n",
       "\n",
       "    .dataframe thead th {\n",
       "        text-align: right;\n",
       "    }\n",
       "</style>\n",
       "<table border=\"1\" class=\"dataframe\">\n",
       "  <thead>\n",
       "    <tr style=\"text-align: right;\">\n",
       "      <th></th>\n",
       "      <th>Ground transportation to/from airport</th>\n",
       "      <th>Parking facilities</th>\n",
       "      <th>Parking facilities (value for money)</th>\n",
       "      <th>Availability of baggage carts</th>\n",
       "      <th>Efficiency of check-in staff</th>\n",
       "      <th>Check-in wait time</th>\n",
       "      <th>Courtesy of of check-in staff</th>\n",
       "      <th>Wait time at passport inspection</th>\n",
       "      <th>Courtesy of inspection staff</th>\n",
       "      <th>Courtesy of security staff</th>\n",
       "      <th>...</th>\n",
       "      <th>Business/executive lounges</th>\n",
       "      <th>Availability of washrooms</th>\n",
       "      <th>Cleanliness of washrooms</th>\n",
       "      <th>Comfort of waiting/gate areas</th>\n",
       "      <th>Cleanliness of airport terminal</th>\n",
       "      <th>Ambience of airport</th>\n",
       "      <th>Arrivals passport and visa inspection</th>\n",
       "      <th>Speed of baggage delivery</th>\n",
       "      <th>Customs inspection</th>\n",
       "      <th>Overall satisfaction</th>\n",
       "    </tr>\n",
       "  </thead>\n",
       "  <tbody>\n",
       "    <tr>\n",
       "      <th>151</th>\n",
       "      <td>NaN</td>\n",
       "      <td>2.0</td>\n",
       "      <td>1.0</td>\n",
       "      <td>NaN</td>\n",
       "      <td>NaN</td>\n",
       "      <td>NaN</td>\n",
       "      <td>NaN</td>\n",
       "      <td>5.0</td>\n",
       "      <td>5.0</td>\n",
       "      <td>1.0</td>\n",
       "      <td>...</td>\n",
       "      <td>NaN</td>\n",
       "      <td>5.0</td>\n",
       "      <td>5.0</td>\n",
       "      <td>4.0</td>\n",
       "      <td>5.0</td>\n",
       "      <td>5.0</td>\n",
       "      <td>5.0</td>\n",
       "      <td>5.0</td>\n",
       "      <td>NaN</td>\n",
       "      <td>5.0</td>\n",
       "    </tr>\n",
       "    <tr>\n",
       "      <th>155</th>\n",
       "      <td>4.0</td>\n",
       "      <td>NaN</td>\n",
       "      <td>NaN</td>\n",
       "      <td>NaN</td>\n",
       "      <td>3.0</td>\n",
       "      <td>4.0</td>\n",
       "      <td>4.0</td>\n",
       "      <td>3.0</td>\n",
       "      <td>4.0</td>\n",
       "      <td>4.0</td>\n",
       "      <td>...</td>\n",
       "      <td>NaN</td>\n",
       "      <td>3.0</td>\n",
       "      <td>4.0</td>\n",
       "      <td>3.0</td>\n",
       "      <td>4.0</td>\n",
       "      <td>3.0</td>\n",
       "      <td>4.0</td>\n",
       "      <td>3.0</td>\n",
       "      <td>2.0</td>\n",
       "      <td>2.0</td>\n",
       "    </tr>\n",
       "    <tr>\n",
       "      <th>351</th>\n",
       "      <td>5.0</td>\n",
       "      <td>NaN</td>\n",
       "      <td>NaN</td>\n",
       "      <td>NaN</td>\n",
       "      <td>4.0</td>\n",
       "      <td>4.0</td>\n",
       "      <td>4.0</td>\n",
       "      <td>3.0</td>\n",
       "      <td>4.0</td>\n",
       "      <td>5.0</td>\n",
       "      <td>...</td>\n",
       "      <td>NaN</td>\n",
       "      <td>4.0</td>\n",
       "      <td>5.0</td>\n",
       "      <td>5.0</td>\n",
       "      <td>4.0</td>\n",
       "      <td>5.0</td>\n",
       "      <td>5.0</td>\n",
       "      <td>4.0</td>\n",
       "      <td>NaN</td>\n",
       "      <td>3.0</td>\n",
       "    </tr>\n",
       "    <tr>\n",
       "      <th>373</th>\n",
       "      <td>5.0</td>\n",
       "      <td>5.0</td>\n",
       "      <td>5.0</td>\n",
       "      <td>5.0</td>\n",
       "      <td>5.0</td>\n",
       "      <td>5.0</td>\n",
       "      <td>5.0</td>\n",
       "      <td>5.0</td>\n",
       "      <td>5.0</td>\n",
       "      <td>5.0</td>\n",
       "      <td>...</td>\n",
       "      <td>5.0</td>\n",
       "      <td>5.0</td>\n",
       "      <td>5.0</td>\n",
       "      <td>5.0</td>\n",
       "      <td>5.0</td>\n",
       "      <td>5.0</td>\n",
       "      <td>5.0</td>\n",
       "      <td>5.0</td>\n",
       "      <td>5.0</td>\n",
       "      <td>5.0</td>\n",
       "    </tr>\n",
       "    <tr>\n",
       "      <th>646</th>\n",
       "      <td>5.0</td>\n",
       "      <td>5.0</td>\n",
       "      <td>4.0</td>\n",
       "      <td>4.0</td>\n",
       "      <td>5.0</td>\n",
       "      <td>5.0</td>\n",
       "      <td>5.0</td>\n",
       "      <td>5.0</td>\n",
       "      <td>5.0</td>\n",
       "      <td>5.0</td>\n",
       "      <td>...</td>\n",
       "      <td>5.0</td>\n",
       "      <td>5.0</td>\n",
       "      <td>4.0</td>\n",
       "      <td>3.0</td>\n",
       "      <td>5.0</td>\n",
       "      <td>5.0</td>\n",
       "      <td>4.0</td>\n",
       "      <td>4.0</td>\n",
       "      <td>2.0</td>\n",
       "      <td>3.0</td>\n",
       "    </tr>\n",
       "  </tbody>\n",
       "</table>\n",
       "<p>5 rows × 34 columns</p>\n",
       "</div>"
      ],
      "text/plain": [
       "     Ground transportation to/from airport  Parking facilities  \\\n",
       "151                                    NaN                 2.0   \n",
       "155                                    4.0                 NaN   \n",
       "351                                    5.0                 NaN   \n",
       "373                                    5.0                 5.0   \n",
       "646                                    5.0                 5.0   \n",
       "\n",
       "     Parking facilities (value for money)  Availability of baggage carts  \\\n",
       "151                                   1.0                            NaN   \n",
       "155                                   NaN                            NaN   \n",
       "351                                   NaN                            NaN   \n",
       "373                                   5.0                            5.0   \n",
       "646                                   4.0                            4.0   \n",
       "\n",
       "     Efficiency of check-in staff  Check-in wait time  \\\n",
       "151                           NaN                 NaN   \n",
       "155                           3.0                 4.0   \n",
       "351                           4.0                 4.0   \n",
       "373                           5.0                 5.0   \n",
       "646                           5.0                 5.0   \n",
       "\n",
       "     Courtesy of of check-in staff  Wait time at passport inspection  \\\n",
       "151                            NaN                               5.0   \n",
       "155                            4.0                               3.0   \n",
       "351                            4.0                               3.0   \n",
       "373                            5.0                               5.0   \n",
       "646                            5.0                               5.0   \n",
       "\n",
       "     Courtesy of inspection staff  Courtesy of security staff  ...  \\\n",
       "151                           5.0                         1.0  ...   \n",
       "155                           4.0                         4.0  ...   \n",
       "351                           4.0                         5.0  ...   \n",
       "373                           5.0                         5.0  ...   \n",
       "646                           5.0                         5.0  ...   \n",
       "\n",
       "     Business/executive lounges  Availability of washrooms  \\\n",
       "151                         NaN                        5.0   \n",
       "155                         NaN                        3.0   \n",
       "351                         NaN                        4.0   \n",
       "373                         5.0                        5.0   \n",
       "646                         5.0                        5.0   \n",
       "\n",
       "     Cleanliness of washrooms  Comfort of waiting/gate areas  \\\n",
       "151                       5.0                            4.0   \n",
       "155                       4.0                            3.0   \n",
       "351                       5.0                            5.0   \n",
       "373                       5.0                            5.0   \n",
       "646                       4.0                            3.0   \n",
       "\n",
       "     Cleanliness of airport terminal  Ambience of airport  \\\n",
       "151                              5.0                  5.0   \n",
       "155                              4.0                  3.0   \n",
       "351                              4.0                  5.0   \n",
       "373                              5.0                  5.0   \n",
       "646                              5.0                  5.0   \n",
       "\n",
       "     Arrivals passport and visa inspection  Speed of baggage delivery  \\\n",
       "151                                    5.0                        5.0   \n",
       "155                                    4.0                        3.0   \n",
       "351                                    5.0                        4.0   \n",
       "373                                    5.0                        5.0   \n",
       "646                                    4.0                        4.0   \n",
       "\n",
       "     Customs inspection  Overall satisfaction  \n",
       "151                 NaN                   5.0  \n",
       "155                 2.0                   2.0  \n",
       "351                 NaN                   3.0  \n",
       "373                 5.0                   5.0  \n",
       "646                 2.0                   3.0  \n",
       "\n",
       "[5 rows x 34 columns]"
      ]
     },
     "execution_count": 6,
     "metadata": {},
     "output_type": "execute_result"
    }
   ],
   "source": [
    "survey_responses = survey_responses.drop(columns=['Quarter', 'Date recorded', 'Departure time'])\n",
    "\n",
    "# Scales are normally 1-5. Hypothesis is that a 0 means the a respondent saw the question, but didn't answer or ansered NA\n",
    "# Changing all 0 to NaN\n",
    "survey_responses[survey_responses.eq(0)] = np.nan\n",
    "\n",
    "# Drop missing values dependent variables\n",
    "survey_responses = survey_responses.dropna(subset=['Overall satisfaction'])\n",
    "\n",
    "survey_responses.head(5)"
   ]
  },
  {
   "cell_type": "markdown",
   "metadata": {},
   "source": [
    "### Dependent variable"
   ]
  },
  {
   "cell_type": "code",
   "execution_count": 7,
   "metadata": {},
   "outputs": [],
   "source": [
    "yName = 'Overall satisfaction'"
   ]
  },
  {
   "cell_type": "markdown",
   "metadata": {},
   "source": [
    "### Independent Variables"
   ]
  },
  {
   "cell_type": "code",
   "execution_count": 8,
   "metadata": {},
   "outputs": [],
   "source": [
    "xNames = ['Check-in wait time',\n",
    "          'Wait time at passport inspection',\n",
    "          'Wait time of security inspection',\n",
    "          'Speed of baggage delivery',\n",
    "          'Efficiency of check-in staff']"
   ]
  },
  {
   "cell_type": "markdown",
   "metadata": {},
   "source": [
    "### Using linear regression"
   ]
  },
  {
   "cell_type": "code",
   "execution_count": 9,
   "metadata": {},
   "outputs": [],
   "source": [
    "from sklearn.linear_model import LinearRegression\n",
    "\n",
    "model = LinearRegression()\n",
    "#initialised LinearRegression() class\n",
    "\n",
    "\n",
    "# selecting required columns\n",
    "comp_cases = survey_responses[['Check-in wait time',\n",
    "          'Wait time at passport inspection',\n",
    "          'Wait time of security inspection',\n",
    "          'Speed of baggage delivery',\n",
    "          'Efficiency of check-in staff',\n",
    "            'Overall satisfaction']].dropna()\n",
    "\n",
    "test1 = comp_cases.sample(n=500)\n",
    "test2 = comp_cases.sample(n=500)\n",
    "\n",
    "\n",
    "X1 = test1.drop(columns=['Overall satisfaction'])\n",
    "X2 = test2.drop(columns=['Overall satisfaction'])\n",
    "\n",
    "#Converting pandas dataframe to numpy array.\n",
    "X1 = X1.to_numpy()\n",
    "X2 = X2.to_numpy()\n",
    "\n",
    "y1 = test1['Overall satisfaction']\n",
    "y2 = test2['Overall satisfaction']\n",
    "\n",
    "y1 = y1.to_numpy()\n",
    "y2 = y2.to_numpy()\n"
   ]
  },
  {
   "cell_type": "markdown",
   "metadata": {},
   "source": [
    "### For model1"
   ]
  },
  {
   "cell_type": "code",
   "execution_count": 10,
   "metadata": {},
   "outputs": [
    {
     "name": "stdout",
     "output_type": "stream",
     "text": [
      "R Square is 0.3804972928513741, coef are [0.0624157  0.11060723 0.20946181 0.14596658 0.1300506 ], intercept is 1.5547324136711889\n"
     ]
    }
   ],
   "source": [
    "model.fit(X2, y2)\n",
    "r_sqr = model.score(X1, y1)\n",
    "coef = model.coef_\n",
    "intercept = model.intercept_\n",
    "print(f\"R Square is {r_sqr}, coef are {coef}, intercept is {intercept}\")"
   ]
  },
  {
   "cell_type": "markdown",
   "metadata": {},
   "source": [
    "### For model2"
   ]
  },
  {
   "cell_type": "code",
   "execution_count": 11,
   "metadata": {},
   "outputs": [
    {
     "name": "stdout",
     "output_type": "stream",
     "text": [
      "R Square is 0.3899031335827169, coef are [0.03297684 0.2147413  0.15923265 0.11158259 0.14073195], intercept is 1.5040632055291185\n"
     ]
    }
   ],
   "source": [
    "model.fit(X1, y1)\n",
    "r_sqr = model.score(X1, y1)\n",
    "coef = model.coef_\n",
    "intercept = model.intercept_\n",
    "print(f\"R Square is {r_sqr}, coef are {coef}, intercept is {intercept}\")"
   ]
  },
  {
   "cell_type": "markdown",
   "metadata": {},
   "source": [
    "### Using Relative weight analysis"
   ]
  },
  {
   "cell_type": "code",
   "execution_count": 12,
   "metadata": {},
   "outputs": [
    {
     "data": {
      "text/html": [
       "<div>\n",
       "<style scoped>\n",
       "    .dataframe tbody tr th:only-of-type {\n",
       "        vertical-align: middle;\n",
       "    }\n",
       "\n",
       "    .dataframe tbody tr th {\n",
       "        vertical-align: top;\n",
       "    }\n",
       "\n",
       "    .dataframe thead th {\n",
       "        text-align: right;\n",
       "    }\n",
       "</style>\n",
       "<table border=\"1\" class=\"dataframe\">\n",
       "  <thead>\n",
       "    <tr style=\"text-align: right;\">\n",
       "      <th></th>\n",
       "      <th>driver</th>\n",
       "      <th>rawRelaImpt</th>\n",
       "      <th>normRelaImpt</th>\n",
       "    </tr>\n",
       "  </thead>\n",
       "  <tbody>\n",
       "    <tr>\n",
       "      <th>0</th>\n",
       "      <td>Check-in wait time</td>\n",
       "      <td>0.047324</td>\n",
       "      <td>13.920997</td>\n",
       "    </tr>\n",
       "    <tr>\n",
       "      <th>1</th>\n",
       "      <td>Wait time at passport inspection</td>\n",
       "      <td>0.077577</td>\n",
       "      <td>22.820215</td>\n",
       "    </tr>\n",
       "    <tr>\n",
       "      <th>2</th>\n",
       "      <td>Wait time of security inspection</td>\n",
       "      <td>0.072228</td>\n",
       "      <td>21.246809</td>\n",
       "    </tr>\n",
       "    <tr>\n",
       "      <th>3</th>\n",
       "      <td>Speed of baggage delivery</td>\n",
       "      <td>0.085748</td>\n",
       "      <td>25.223919</td>\n",
       "    </tr>\n",
       "    <tr>\n",
       "      <th>4</th>\n",
       "      <td>Efficiency of check-in staff</td>\n",
       "      <td>0.057070</td>\n",
       "      <td>16.788061</td>\n",
       "    </tr>\n",
       "  </tbody>\n",
       "</table>\n",
       "</div>"
      ],
      "text/plain": [
       "                             driver  rawRelaImpt  normRelaImpt\n",
       "0                Check-in wait time     0.047324     13.920997\n",
       "1  Wait time at passport inspection     0.077577     22.820215\n",
       "2  Wait time of security inspection     0.072228     21.246809\n",
       "3         Speed of baggage delivery     0.085748     25.223919\n",
       "4      Efficiency of check-in staff     0.057070     16.788061"
      ]
     },
     "execution_count": 12,
     "metadata": {},
     "output_type": "execute_result"
    }
   ],
   "source": [
    "results = relativeImp(survey_responses, outcomeName = yName, driverNames = xNames)\n",
    "results"
   ]
  },
  {
   "cell_type": "code",
   "execution_count": 15,
   "metadata": {},
   "outputs": [
    {
     "data": {
      "text/plain": [
       "99.99999999999999"
      ]
     },
     "execution_count": 15,
     "metadata": {},
     "output_type": "execute_result"
    }
   ],
   "source": [
    "sum(results.normRelaImpt)"
   ]
  },
  {
   "cell_type": "markdown",
   "metadata": {},
   "source": [
    "#### We found out that there is relatively small difference between the performance of linear regression and relative weight analysis"
   ]
  },
  {
   "cell_type": "markdown",
   "metadata": {},
   "source": [
    "### Plotting the major drivers affecting overall satisfaction. "
   ]
  },
  {
   "cell_type": "code",
   "execution_count": 17,
   "metadata": {},
   "outputs": [
    {
     "data": {
      "image/png": "[encoded data removed]",
      "text/plain": [
       "<Figure size 432x288 with 1 Axes>"
      ]
     },
     "metadata": {
      "needs_background": "light"
     },
     "output_type": "display_data"
    }
   ],
   "source": [
    "import matplotlib.pyplot as plt\n",
    "fig, ax = plt.subplots()\n",
    "\n",
    "ax.barh(results.driver, results.normRelaImpt)\n",
    "ax.invert_yaxis() \n",
    "ax.set_title('Relative Importance of Predictor Variables')\n",
    "\n",
    "plt.show()"
   ]
  },
  {
   "cell_type": "code",
   "execution_count": null,
   "metadata": {},
   "outputs": [],
   "source": []
  },
  {
   "cell_type": "code",
   "execution_count": null,
   "metadata": {},
   "outputs": [],
   "source": []
  },
  {
   "cell_type": "code",
   "execution_count": null,
   "metadata": {},
   "outputs": [],
   "source": []
  }
 ],
 "metadata": {
  "kernelspec": {
   "display_name": "Python 3",
   "language": "python",
   "name": "python3"
  },
  "language_info": {
   "codemirror_mode": {
    "name": "ipython",
    "version": 3
   },
   "file_extension": ".py",
   "mimetype": "text/x-python",
   "name": "python",
   "nbconvert_exporter": "python",
   "pygments_lexer": "ipython3",
   "version": "3.7.4"
  }
 },
 "nbformat": 4,
 "nbformat_minor": 2
}
