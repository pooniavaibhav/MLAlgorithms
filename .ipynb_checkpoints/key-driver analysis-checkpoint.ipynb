{
 "cells": [
  {
   "cell_type": "markdown",
   "metadata": {},
   "source": [
    "## Key Driver Analysis:\n",
    "\n",
    "Key Driver Analysis tells you the importance of your predictor variables (independent) on your outcome variable (dependent).\n",
    "\n",
    "In a multiple regression analysis (and other similar analyses), one is usually interested in determining the relative contribution of each predictor towards explaining variance in the criterion variable.\n"
   ]
  },
  {
   "cell_type": "markdown",
   "metadata": {},
   "source": [
    "#### We will be using two models for our Key driver analysis:\n",
    "##### Linear Regression\n",
    "##### Relative weight analysis"
   ]
  },
  {
   "cell_type": "markdown",
   "metadata": {},
   "source": [
    "After that we would be testing the performance of both the models using R square.R square basically gives us how good our model performs compared to an average model.\n",
    "##### closer is R² to 1 the better it it. Further it is from 1 worse it is."
   ]
  },
  {
   "cell_type": "markdown",
   "metadata": {},
   "source": [
    "### Importing libraries:"
   ]
  },
  {
   "cell_type": "code",
   "execution_count": 44,
   "metadata": {},
   "outputs": [],
   "source": [
    "import pandas as pd\n",
    "import numpy as np\n",
    "import matplotlib\n",
    "import matplotlib.pyplot as plt\n",
    "import os\n",
    "from relativeImp import relativeImp\n",
    "\n",
    "#Getting current directory\n",
    "current_dir = os.getcwd()"
   ]
  },
  {
   "cell_type": "markdown",
   "metadata": {},
   "source": [
    "### Importing our data."
   ]
  },
  {
   "cell_type": "code",
   "execution_count": 45,
   "metadata": {},
   "outputs": [
    {
     "data": {
      "text/plain": [
       "(3501, 37)"
      ]
     },
     "execution_count": 45,
     "metadata": {},
     "output_type": "execute_result"
    }
   ],
   "source": [
    "survey_data = pd.read_csv(\"/home/vaibhav/AIGit/Airport_Quarterly_Passenger_Survey.csv\")\n",
    "survey_data.shape"
   ]
  },
  {
   "cell_type": "markdown",
   "metadata": {},
   "source": [
    "### Selecting required columns:"
   ]
  },
  {
   "cell_type": "code",
   "execution_count": 46,
   "metadata": {
    "scrolled": false
   },
   "outputs": [],
   "source": [
    "survey_response = survey_data.drop(columns = ['Quarter', 'Date recorded', 'Departure time'])"
   ]
  },
  {
   "cell_type": "code",
   "execution_count": 47,
   "metadata": {},
   "outputs": [],
   "source": [
    "data = survey_response[['Check-in wait time',\n",
    "          'Wait time at passport inspection',\n",
    "          'Wait time of security inspection',\n",
    "          'Speed of baggage delivery',\n",
    "          'Efficiency of check-in staff',\n",
    "            'Overall satisfaction']]\n",
    "\n",
    "columns = list(data.columns)\n",
    "\n",
    "np_response = data.iloc[:,:].values"
   ]
  },
  {
   "cell_type": "code",
   "execution_count": 48,
   "metadata": {},
   "outputs": [],
   "source": [
    "from sklearn.impute import SimpleImputer\n",
    "\n",
    "imputer = SimpleImputer(missing_values = np.nan, strategy = 'mean', verbose = 0)\n",
    "Imputer = imputer.fit(np_response)\n",
    "\n",
    "np_response = Imputer.transform(np_response) \n",
    "\n",
    "response = pd.DataFrame({columns[0]: np_response[:, 0], columns[1]: np_response[:, 1],columns[2]: np_response[:, 2],columns[3]: np_response[:, 3],columns[4]: np_response[:, 4],columns[5]: np_response[:, 5]})\n"
   ]
  },
  {
   "cell_type": "markdown",
   "metadata": {},
   "source": [
    "### Dependent variable"
   ]
  },
  {
   "cell_type": "code",
   "execution_count": 49,
   "metadata": {},
   "outputs": [],
   "source": [
    "yName = 'Overall satisfaction'"
   ]
  },
  {
   "cell_type": "markdown",
   "metadata": {},
   "source": [
    "### Independent Variables"
   ]
  },
  {
   "cell_type": "code",
   "execution_count": 50,
   "metadata": {},
   "outputs": [],
   "source": [
    "xNames = ['Check-in wait time',\n",
    "          'Wait time at passport inspection',\n",
    "          'Wait time of security inspection',\n",
    "          'Speed of baggage delivery',\n",
    "          'Efficiency of check-in staff']"
   ]
  },
  {
   "cell_type": "markdown",
   "metadata": {},
   "source": [
    "### Using linear regression"
   ]
  },
  {
   "cell_type": "code",
   "execution_count": 51,
   "metadata": {},
   "outputs": [],
   "source": [
    "from sklearn.linear_model import LinearRegression\n",
    "\n",
    "model = LinearRegression()\n",
    "#initialised LinearRegression() class\n",
    "\n",
    "\n",
    "# selecting required columns\n",
    "comp_cases = survey_response[['Check-in wait time',\n",
    "          'Wait time at passport inspection',\n",
    "          'Wait time of security inspection',\n",
    "          'Speed of baggage delivery',\n",
    "          'Efficiency of check-in staff',\n",
    "            'Overall satisfaction']].dropna()\n",
    "\n",
    "test1 = comp_cases.sample(n=500)\n",
    "test2 = comp_cases.sample(n=500)\n",
    "\n",
    "\n",
    "X1 = test1.drop(columns=['Overall satisfaction'])\n",
    "X2 = test2.drop(columns=['Overall satisfaction'])\n",
    "\n",
    "#Converting pandas dataframe to numpy array.\n",
    "X1 = X1.to_numpy()\n",
    "X2 = X2.to_numpy()\n",
    "\n",
    "y1 = test1['Overall satisfaction']\n",
    "y2 = test2['Overall satisfaction']\n",
    "\n",
    "y1 = y1.to_numpy()\n",
    "y2 = y2.to_numpy()\n"
   ]
  },
  {
   "cell_type": "markdown",
   "metadata": {},
   "source": [
    "### For model1"
   ]
  },
  {
   "cell_type": "code",
   "execution_count": 52,
   "metadata": {},
   "outputs": [
    {
     "name": "stdout",
     "output_type": "stream",
     "text": [
      "R Square is 0.3548158913517212, coef are [ 0.10685853  0.09330626 -0.01644126  0.81287223 -0.12061253], intercept is 0.7503866560564261\n"
     ]
    }
   ],
   "source": [
    "model.fit(X2, y2)\n",
    "r_sqr = model.score(X1, y1)\n",
    "coef = model.coef_\n",
    "intercept = model.intercept_\n",
    "print(f\"R Square is {r_sqr}, coef are {coef}, intercept is {intercept}\")"
   ]
  },
  {
   "cell_type": "markdown",
   "metadata": {},
   "source": [
    "### For model2"
   ]
  },
  {
   "cell_type": "code",
   "execution_count": 53,
   "metadata": {},
   "outputs": [
    {
     "name": "stdout",
     "output_type": "stream",
     "text": [
      "R Square is 0.3822699775786961, coef are [-0.17390919  0.01340213 -0.01812126  0.78995888  0.07023022], intercept is 1.5077425873278798\n"
     ]
    }
   ],
   "source": [
    "model.fit(X1, y1)\n",
    "r_sqr = model.score(X1, y1)\n",
    "coef = model.coef_\n",
    "intercept = model.intercept_\n",
    "print(f\"R Square is {r_sqr}, coef are {coef}, intercept is {intercept}\")"
   ]
  },
  {
   "cell_type": "markdown",
   "metadata": {},
   "source": [
    "### Using Relative weight analysis"
   ]
  },
  {
   "cell_type": "code",
   "execution_count": 54,
   "metadata": {},
   "outputs": [
    {
     "data": {
      "text/html": [
       "<div>\n",
       "<style scoped>\n",
       "    .dataframe tbody tr th:only-of-type {\n",
       "        vertical-align: middle;\n",
       "    }\n",
       "\n",
       "    .dataframe tbody tr th {\n",
       "        vertical-align: top;\n",
       "    }\n",
       "\n",
       "    .dataframe thead th {\n",
       "        text-align: right;\n",
       "    }\n",
       "</style>\n",
       "<table border=\"1\" class=\"dataframe\">\n",
       "  <thead>\n",
       "    <tr style=\"text-align: right;\">\n",
       "      <th></th>\n",
       "      <th>driver</th>\n",
       "      <th>rawRelaImpt</th>\n",
       "      <th>normRelaImpt</th>\n",
       "    </tr>\n",
       "  </thead>\n",
       "  <tbody>\n",
       "    <tr>\n",
       "      <th>0</th>\n",
       "      <td>Check-in wait time</td>\n",
       "      <td>0.001521</td>\n",
       "      <td>0.389987</td>\n",
       "    </tr>\n",
       "    <tr>\n",
       "      <th>1</th>\n",
       "      <td>Wait time at passport inspection</td>\n",
       "      <td>0.003135</td>\n",
       "      <td>0.803725</td>\n",
       "    </tr>\n",
       "    <tr>\n",
       "      <th>2</th>\n",
       "      <td>Wait time of security inspection</td>\n",
       "      <td>0.004335</td>\n",
       "      <td>1.111459</td>\n",
       "    </tr>\n",
       "    <tr>\n",
       "      <th>3</th>\n",
       "      <td>Speed of baggage delivery</td>\n",
       "      <td>0.379115</td>\n",
       "      <td>97.195897</td>\n",
       "    </tr>\n",
       "    <tr>\n",
       "      <th>4</th>\n",
       "      <td>Efficiency of check-in staff</td>\n",
       "      <td>0.001946</td>\n",
       "      <td>0.498932</td>\n",
       "    </tr>\n",
       "  </tbody>\n",
       "</table>\n",
       "</div>"
      ],
      "text/plain": [
       "                             driver  rawRelaImpt  normRelaImpt\n",
       "0                Check-in wait time     0.001521      0.389987\n",
       "1  Wait time at passport inspection     0.003135      0.803725\n",
       "2  Wait time of security inspection     0.004335      1.111459\n",
       "3         Speed of baggage delivery     0.379115     97.195897\n",
       "4      Efficiency of check-in staff     0.001946      0.498932"
      ]
     },
     "execution_count": 54,
     "metadata": {},
     "output_type": "execute_result"
    }
   ],
   "source": [
    "results = relativeImp(survey_response, outcomeName = yName, driverNames = xNames)\n",
    "results"
   ]
  },
  {
   "cell_type": "code",
   "execution_count": 55,
   "metadata": {},
   "outputs": [
    {
     "data": {
      "text/plain": [
       "0.39005225186416453"
      ]
     },
     "execution_count": 55,
     "metadata": {},
     "output_type": "execute_result"
    }
   ],
   "source": [
    "sum(results.rawRelaImpt)"
   ]
  },
  {
   "cell_type": "markdown",
   "metadata": {},
   "source": [
    "#### We found out that there is relatively small difference between the performance of linear regression and relative weight analysis"
   ]
  },
  {
   "cell_type": "markdown",
   "metadata": {},
   "source": [
    "### Plotting the major drivers affecting overall satisfaction. "
   ]
  },
  {
   "cell_type": "code",
   "execution_count": 56,
   "metadata": {},
   "outputs": [
    {
     "data": {
      "image/png": "[encoded data removed]",
      "text/plain": [
       "<Figure size 432x288 with 1 Axes>"
      ]
     },
     "metadata": {
      "needs_background": "light"
     },
     "output_type": "display_data"
    }
   ],
   "source": [
    "import matplotlib.pyplot as plt\n",
    "fig, ax = plt.subplots()\n",
    "\n",
    "ax.barh(results.driver, results.normRelaImpt)\n",
    "ax.invert_yaxis() \n",
    "ax.set_title('Relative Importance of Predictor Variables')\n",
    "\n",
    "plt.show()"
   ]
  },
  {
   "cell_type": "code",
   "execution_count": null,
   "metadata": {},
   "outputs": [],
   "source": []
  },
  {
   "cell_type": "code",
   "execution_count": null,
   "metadata": {},
   "outputs": [],
   "source": []
  },
  {
   "cell_type": "code",
   "execution_count": null,
   "metadata": {},
   "outputs": [],
   "source": []
  }
 ],
 "metadata": {
  "kernelspec": {
   "display_name": "Python 3",
   "language": "python",
   "name": "python3"
  },
  "language_info": {
   "codemirror_mode": {
    "name": "ipython",
    "version": 3
   },
   "file_extension": ".py",
   "mimetype": "text/x-python",
   "name": "python",
   "nbconvert_exporter": "python",
   "pygments_lexer": "ipython3",
   "version": "3.7.4"
  }
 },
 "nbformat": 4,
 "nbformat_minor": 2
}
