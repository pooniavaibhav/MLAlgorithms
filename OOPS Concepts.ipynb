{
 "cells": [
  {
   "cell_type": "markdown",
   "metadata": {},
   "source": [
    "## Object:\n",
    "In coding we try to solve real world problem with virtual world solution. like in software. In real world for every task you do you require an object like this keyboard.\n",
    "Every objects will have two properties:\n",
    "\n",
    "-Attributes - Properties like height,colour.(This are variables)\n",
    "-Behaviour - talking,walking,dancing.(This are methods.)\n",
    "\n",
    "Any object for e.g mobile is designed some where and then manufactured multiple times.That design in OOPS is known as CLASS and our mobile phone that is being produced is called ENTITY OR INSTANCE.\n",
    "\n",
    "So we can say that a phone is an instance of a class factory.\n",
    "\n"
   ]
  },
  {
   "cell_type": "code",
   "execution_count": 2,
   "metadata": {},
   "outputs": [
    {
     "name": "stdout",
     "output_type": "stream",
     "text": [
      "i5 8gb 1TB\n",
      "i5 8gb 1TB\n",
      "i5 8gb 1TB\n"
     ]
    }
   ],
   "source": [
    "class Computer:\n",
    "    def config(self):\n",
    "        #self is he object that you pass while calling this method.\n",
    "        print(\"i5\",\"8gb\",\"1TB\")\n",
    "        \n",
    "com1 = Computer() #Construstor to tell com1 is of type computer.\n",
    "#print(type(com1)) # to check the type of the com1\n",
    "\n",
    "com2 = Computer()\n",
    "#no we need to call the function inside the class.\n",
    "Computer.config(com1)\n",
    "#(we need to tell for which object we are calling that function.)\n",
    "#com1 object is passed to self\n",
    "Computer.config(com2)\n",
    "\n",
    "#We can also call config method in Computer class from object itself.\n",
    "com1.config()"
   ]
  },
  {
   "cell_type": "code",
   "execution_count": 3,
   "metadata": {},
   "outputs": [
    {
     "name": "stdout",
     "output_type": "stream",
     "text": [
      "in init\n",
      "main method\n"
     ]
    }
   ],
   "source": [
    "#__init__ :it is a special method to initialise varibales.\n",
    "class Computer:\n",
    "    def __init__(self):  #get called it self not required to call\n",
    "        print(\"in init\")\n",
    "    def config(self):\n",
    "        print('main method')\n",
    "        \n",
    "com1 = Computer()\n",
    "\n",
    "com1.config()"
   ]
  },
  {
   "cell_type": "code",
   "execution_count": 3,
   "metadata": {},
   "outputs": [
    {
     "name": "stdout",
     "output_type": "stream",
     "text": [
      "i5 16\n"
     ]
    }
   ],
   "source": [
    "#Passing Arguements\n",
    "class Computer:\n",
    "    def __init__(self, cpu,ram):  #get called it self not required to call\n",
    "        self.cpu = cpu\n",
    "        self.ram = ram\n",
    "    def config(self):\n",
    "        print(self.cpu,self.ram)\n",
    "        \n",
    "com1 = Computer('i5','16')\n",
    "\n",
    "com1.config()"
   ]
  },
  {
   "cell_type": "markdown",
   "metadata": {},
   "source": [
    "Heap Memory -\n",
    "All our objects will be present in heap memory.\n",
    "Evry time we create an object it will take a new space.\n",
    "\n",
    "Constructor decides which object will take how much memory.When we create an object of particular class its __init__ method is called by itself and all the varibles are initalised."
   ]
  },
  {
   "cell_type": "code",
   "execution_count": 1,
   "metadata": {},
   "outputs": [
    {
     "name": "stdout",
     "output_type": "stream",
     "text": [
      "Vaibhav\n",
      "24\n"
     ]
    }
   ],
   "source": [
    "class Computer:\n",
    "    def __init__(self):\n",
    "        self.name = \"Vaibhav\"\n",
    "        self.age = \"24\"\n",
    "        \n",
    "        \n",
    "c1 = Computer()\n",
    "print(c1.name)\n",
    "print(c1.age)"
   ]
  },
  {
   "cell_type": "markdown",
   "metadata": {},
   "source": [
    "### suppose we want to compare two objects:"
   ]
  },
  {
   "cell_type": "code",
   "execution_count": 4,
   "metadata": {},
   "outputs": [
    {
     "name": "stdout",
     "output_type": "stream",
     "text": [
      "got it\n"
     ]
    }
   ],
   "source": [
    "class Computer:\n",
    "    def __init__(self,name,processer):\n",
    "        self.name = name\n",
    "        self.processer = processer\n",
    "    def printing(self):\n",
    "        print(self.name)\n",
    "        print(self.processer)\n",
    "    def compare(self,other):\n",
    "        if self.processer == other.processer:\n",
    "            print(\"got it\")\n",
    "        else:\n",
    "            print(\"didnt got\")    \n",
    "    \n",
    "com1 = Computer(\"dell\",\"i5\")\n",
    "com2 = Computer(\"samsung\",\"i5\")\n",
    "\n",
    "com1.compare(com2)"
   ]
  },
  {
   "cell_type": "markdown",
   "metadata": {},
   "source": [
    "### Types of variables:\n",
    "    Instance variable - These can be changed with in a class.\n",
    "    Class(Static) Variable - These will remain same through out the class. "
   ]
  },
  {
   "cell_type": "code",
   "execution_count": 7,
   "metadata": {},
   "outputs": [
    {
     "name": "stdout",
     "output_type": "stream",
     "text": [
      "10 BMW 5\n",
      "8 BMW 5\n",
      "10 BMW 6\n",
      "8 BMW 6\n"
     ]
    }
   ],
   "source": [
    "class car:\n",
    "    \n",
    "    wheels = 5\n",
    "    \n",
    "    def __init__(self):\n",
    "        #Instance variables\n",
    "            self.mil = \"10\"\n",
    "            self.com = \"BMW\"\n",
    "            \n",
    "c1 = car()\n",
    "c2 = car()\n",
    "\n",
    "c2.mil = \"8\"\n",
    "print(c1.mil,c1.com,c1.wheels)\n",
    "print(c2.mil,c2.com,c2.wheels)\n",
    "\n",
    "#If you want to change class variable:\n",
    "car.wheels = 6\n",
    "\n",
    "#The change in class variabale will make change in each object.\n",
    "\n",
    "print(c1.mil,c1.com,c1.wheels)\n",
    "print(c2.mil,c2.com,c2.wheels)\n",
    "\n",
    "#Namespace - It is a space where all variables/object are stored. \n"
   ]
  },
  {
   "cell_type": "markdown",
   "metadata": {},
   "source": [
    "### Types of methods:\n",
    " #### Instance method :  It belongs to a particular object.We pass self to it. Instance method are of two type:\n",
    "     -Accessor Methods: If you want to only fetch the value.\n",
    "     -Mutator Methods : If you want to change the value.\n",
    "         \n",
    " #### Class method : \n",
    "     -Class method works with class variables.\n",
    " #### Static method :\n",
    "     -If you want to do some thing that does not require any of the variables.\n"
   ]
  },
  {
   "cell_type": "code",
   "execution_count": 10,
   "metadata": {},
   "outputs": [
    {
     "data": {
      "text/plain": [
       "27.333333333333332"
      ]
     },
     "execution_count": 10,
     "metadata": {},
     "output_type": "execute_result"
    }
   ],
   "source": [
    "class Student:\n",
    "    school = \"JPPS\"\n",
    "    \n",
    "    def __init__(self,m1,m2,m3):\n",
    "        self.m1 = m1\n",
    "        self.m2 = m2\n",
    "        self.m3 = m3\n",
    "    \n",
    "    def avg(self):\n",
    "        #Instance method\n",
    "        return ((self.m1 + self.m2 + self.m3)/3)\n",
    "    \n",
    "    def get_m1(self):\n",
    "        #Accessor Method\n",
    "        return self.m1\n",
    "    \n",
    "    def sel_m1(self,value):\n",
    "        #Mutator method\n",
    "        self.m1 = self.value\n",
    "        \n",
    "s1 = Student(25,27,30)\n",
    "\n",
    "s1.avg()"
   ]
  },
  {
   "cell_type": "markdown",
   "metadata": {},
   "source": [
    "### ClassMethod:"
   ]
  },
  {
   "cell_type": "code",
   "execution_count": 12,
   "metadata": {},
   "outputs": [
    {
     "name": "stdout",
     "output_type": "stream",
     "text": [
      "JPPS\n"
     ]
    }
   ],
   "source": [
    "class Student:\n",
    "    school = \"JPPS\"\n",
    "    \n",
    "    @classmethod #Decorator is used to create a class method.\n",
    "    def info(cls):\n",
    "        return cls.school\n",
    "    \n",
    "s1 = Student()\n",
    "\n",
    "print(s1.info()) "
   ]
  },
  {
   "cell_type": "markdown",
   "metadata": {},
   "source": [
    "### Static Method"
   ]
  },
  {
   "cell_type": "code",
   "execution_count": 13,
   "metadata": {},
   "outputs": [
    {
     "name": "stdout",
     "output_type": "stream",
     "text": [
      "This is student class\n"
     ]
    }
   ],
   "source": [
    "class student:\n",
    "    \n",
    "    @staticmethod\n",
    "    def info():\n",
    "        print(\"This is student class\")\n",
    "        \n",
    "student.info()"
   ]
  },
  {
   "cell_type": "markdown",
   "metadata": {},
   "source": [
    "### Inner class"
   ]
  },
  {
   "cell_type": "code",
   "execution_count": 20,
   "metadata": {},
   "outputs": [
    {
     "name": "stdout",
     "output_type": "stream",
     "text": [
      "HP i5 8\n"
     ]
    }
   ],
   "source": [
    "class student:\n",
    "    \n",
    "    def __init__(self,name,rollno):\n",
    "        self.name = name\n",
    "        self.rollno = rollno\n",
    "        #self.lap = self.laptop() Constructor for laptop() way 1. \n",
    "    def show(self):\n",
    "        print(self.name,self.rollno)\n",
    "    \n",
    "#laptop will only be used by student so we can create a laptop class inside student class. \n",
    "#To create an object of laptop we will create constructor in __init__ of outer class.\n",
    "    class laptop:\n",
    "        \n",
    "        def __init__(self):\n",
    "            self.brand = 'HP'\n",
    "            self.cpu = 'i5'\n",
    "            self.ram = 8\n",
    "        def show(self):\n",
    "            print(self.brand,self.cpu,self.ram)\n",
    "\n",
    "s1 = student(\"web\",\"25\")\n",
    "lap1 = student.laptop() #Constructor for laptop() way 2.\n",
    "lap1.show()\n"
   ]
  },
  {
   "cell_type": "markdown",
   "metadata": {},
   "source": [
    "### Inheritence in python:\n"
   ]
  },
  {
   "cell_type": "code",
   "execution_count": null,
   "metadata": {},
   "outputs": [],
   "source": []
  }
 ],
 "metadata": {
  "kernelspec": {
   "display_name": "Python 3",
   "language": "python",
   "name": "python3"
  },
  "language_info": {
   "codemirror_mode": {
    "name": "ipython",
    "version": 3
   },
   "file_extension": ".py",
   "mimetype": "text/x-python",
   "name": "python",
   "nbconvert_exporter": "python",
   "pygments_lexer": "ipython3",
   "version": "3.7.4"
  }
 },
 "nbformat": 4,
 "nbformat_minor": 2
}
